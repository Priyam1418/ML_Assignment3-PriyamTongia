{
  "nbformat": 4,
  "nbformat_minor": 0,
  "metadata": {
    "colab": {
      "name": "ML_A3_Q3.ipynb",
      "provenance": [],
      "collapsed_sections": [
        "l2fAxY3HRJNn",
        "hHWSd6dGSlkQ",
        "mbMonEf0S1ro",
        "9F_U_7RqS7Ap"
      ]
    },
    "kernelspec": {
      "name": "python3",
      "display_name": "Python 3"
    },
    "language_info": {
      "name": "python"
    },
    "accelerator": "GPU"
  },
  "cells": [
    {
      "cell_type": "markdown",
      "metadata": {
        "id": "IFVYqJetBonO"
      },
      "source": [
        "[![Open In Colab](https://colab.research.google.com/assets/colab-badge.svg)](https://colab.research.google.com/drive/1m-6bOVI-F-3YtMilgrJN5ndeuDOvLkCZ?usp=sharing)"
      ]
    },
    {
      "cell_type": "code",
      "metadata": {
        "id": "JTa0IREJBLU0"
      },
      "source": [
        "import numpy as np\n",
        "import pandas as pd\n",
        "import matplotlib.pyplot as plt\n",
        "from tqdm import tqdm\n",
        "from sklearn.datasets import load_digits\n",
        "from sklearn.model_selection import StratifiedKFold\n",
        "from sklearn.decomposition import PCA\n",
        "from scipy.special import softmax\n",
        "from sklearn.metrics import confusion_matrix\n",
        "import autograd.numpy as npy\n",
        "from autograd import grad\n",
        "from autograd import elementwise_grad"
      ],
      "execution_count": null,
      "outputs": []
    },
    {
      "cell_type": "code",
      "metadata": {
        "id": "RsrolULuCcNY"
      },
      "source": [
        "class LogisticRegression():\n",
        "    def __init__(self, fit_intercept=True):\n",
        "        '''\n",
        "        :param fit_intercept: Whether to calculate the intercept for this model. If set to False, no intercept will be used in calculations (i.e. data is expected to be centered).\n",
        "        '''\n",
        "        self.fit_intercept = fit_intercept\n",
        "        self.coef_ = None #Replace with numpy array or pandas series of coefficients learned using using the fit methods\n",
        "        self.thetas = [] \n",
        "        self.costs = []\n",
        "        self.X = None\n",
        "        self.y = None\n",
        "\n",
        "        pass\n",
        "\n",
        "    def fit(self, X, y, n_iter=1000, lr=0.01, lr_type='constant'):\n",
        "\n",
        "        if isinstance(X,pd.DataFrame):\n",
        "            X = X.to_numpy()\n",
        "        \n",
        "        if isinstance(y,pd.Series):\n",
        "            y = y.to_numpy()\n",
        "\n",
        "        m = X.shape[1] \n",
        "\n",
        "        y1 = np.eye(len(np.unique(y)))[y]\n",
        "        n =  y1.shape[1]\n",
        "\n",
        "        if self.fit_intercept == True:\n",
        "            theta = np.random.randn(m+1,n)\n",
        "            X0 = np.ones((X.shape[0],1))\n",
        "            X = np.append(X0,X,axis = 1)\n",
        "        elif self.fit_intercept == False:\n",
        "            theta = np.random.randn(m,n)\n",
        "\n",
        "        self.X = X\n",
        "        self.y = y1\n",
        "        \n",
        "        for it in range(1,n_iter+1):\n",
        "            if lr_type == 'constant':\n",
        "                c = 1\n",
        "            elif lr_type == 'inverse':\n",
        "                c = 1/(it+1)\n",
        "\n",
        "            Z = np.dot(X,theta)\n",
        "            # print(X.shape,theta.shape,Z.shape)\n",
        "\n",
        "            y_hat = softmax(Z,axis=1)\n",
        "            dtheta = (1/n)*np.dot( X.T,y_hat-y1) \n",
        "            theta = theta - c*lr*dtheta\n",
        "\n",
        "            # Keeping track of our weights\n",
        "            self.thetas.append(theta)\n",
        "            \n",
        "        self.coef_ = theta\n",
        "        \n",
        "        return\n",
        "\n",
        "    def cost(self,theta): \n",
        "        X = self.X\n",
        "        y = self.y\n",
        "        cost = 0\n",
        "        for i in range(X.shape[0]):\n",
        "            k = npy.argmax(y[i])\n",
        "            zi = npy.dot(X[i],theta)\n",
        "            cost -= npy.log(npy.exp(npy.dot(X[i],theta[:,k]))/npy.sum(npy.exp(zi)))\n",
        "\n",
        "        cost = cost/len(y)\n",
        "        return cost\n",
        "\n",
        "\n",
        "    def fit_autograd(self, X, y, n_iter=1000, lr=0.01, lr_type='constant'):\n",
        "\n",
        "        if isinstance(X,pd.DataFrame):\n",
        "            X = X.to_numpy()\n",
        "        \n",
        "        if isinstance(y,pd.Series):\n",
        "            y = y.to_numpy()\n",
        "\n",
        "        m = X.shape[1] \n",
        "        y1 = np.eye(len(np.unique(y)))[y]\n",
        "\n",
        "        n =  y1.shape[1]\n",
        "\n",
        "        if self.fit_intercept == True:\n",
        "            theta = np.random.randn(m+1,n)\n",
        "            X0 = np.ones((X.shape[0],1))\n",
        "            X = np.append(X0,X,axis = 1)\n",
        "        elif self.fit_intercept == False:\n",
        "            theta = np.random.randn(m,n)\n",
        "\n",
        "        self.X = X\n",
        "        self.y = y1\n",
        "\n",
        "        ag = elementwise_grad(self.cost)\n",
        "        for it in range(1,n_iter+1):\n",
        "            if lr_type == 'constant':\n",
        "                c = 1\n",
        "            elif lr_type == 'inverse':\n",
        "                c = 1/(it+1)\n",
        "\n",
        "            cost = ag(theta)\n",
        "            \n",
        "            theta -= c*lr*cost\n",
        "\n",
        "            # Keeping track of our weights\n",
        "            self.thetas.append(theta)\n",
        "            \n",
        "            # Keeping track of our cost function value\n",
        "            self.costs.append(cost)\n",
        "            # if(it%50 == 0):\n",
        "            #     print(\"cost after \", it, \"iteration is : \", cost)\n",
        "\n",
        "        self.coef_ = theta\n",
        "        return\n",
        "\n",
        "    \n",
        "    def predict(self, X):\n",
        "            \n",
        "        if isinstance(X,pd.DataFrame):\n",
        "            X = X.to_numpy()\n",
        "\n",
        "        if self.fit_intercept == True:  \n",
        "            m = X.shape[0]\n",
        "            X0 = np.ones((m,1))\n",
        "            X = np.append(X0,X,axis = 1)\n",
        "        \n",
        "        Z = np.dot(X,self.coef_)\n",
        "        y_hat = softmax(Z,axis=1)\n",
        "        y_hat = np.argmax(y_hat, axis=1)\n",
        "        return pd.Series(y_hat)\n",
        "\n",
        "    def accuracy(self,y_hat,y):\n",
        "\n",
        "        assert(y_hat.size == y.size)\n",
        "        true_pred = 0\n",
        "        for i in range(y_hat.size):\n",
        "            if y_hat[i]==y[i]:\n",
        "                true_pred+=1\n",
        "\n",
        "        accu = true_pred/y.size\n",
        "        return accu*100\n"
      ],
      "execution_count": null,
      "outputs": []
    },
    {
      "cell_type": "markdown",
      "metadata": {
        "id": "_yA5yge-RmR6"
      },
      "source": [
        "### Dataset Preprocessing"
      ]
    },
    {
      "cell_type": "code",
      "metadata": {
        "id": "8CdpBt44Rrog"
      },
      "source": [
        "digits = load_digits()\n",
        "X = pd.DataFrame(digits.data)\n",
        "y = pd.Series(digits['target'])"
      ],
      "execution_count": null,
      "outputs": []
    },
    {
      "cell_type": "markdown",
      "metadata": {
        "id": "l2fAxY3HRJNn"
      },
      "source": [
        "### Part - a"
      ]
    },
    {
      "cell_type": "code",
      "metadata": {
        "colab": {
          "base_uri": "https://localhost:8080/"
        },
        "id": "0lDPQtemRhSR",
        "outputId": "73a0602c-df71-4043-d781-221850b9e0d0"
      },
      "source": [
        "def q_a(X,y):\n",
        "    X = X.to_numpy()\n",
        "    y = y.to_numpy()\n",
        "    LR = LogisticRegression()\n",
        "    LR.fit(X,y)\n",
        "    pred = LR.predict(X)\n",
        "    print(\"\\nPart a:\")\n",
        "    print(\"Accuracy: \",LR.accuracy(pred,y))\n",
        "    return\n",
        "\n",
        "q_a(X,y)"
      ],
      "execution_count": null,
      "outputs": [
        {
          "output_type": "stream",
          "text": [
            "\n",
            "Part a:\n",
            "Accuracy:  100.0\n"
          ],
          "name": "stdout"
        }
      ]
    },
    {
      "cell_type": "markdown",
      "metadata": {
        "id": "hHWSd6dGSlkQ"
      },
      "source": [
        "### Part - b"
      ]
    },
    {
      "cell_type": "code",
      "metadata": {
        "colab": {
          "base_uri": "https://localhost:8080/"
        },
        "id": "-gJCQ83eSnM2",
        "outputId": "4db7fd40-9b23-4994-cb9d-d34ef99ad4f6"
      },
      "source": [
        "def q_b(X,y):\n",
        "    X = X.to_numpy()\n",
        "    y = y.to_numpy()\n",
        "    LR = LogisticRegression()\n",
        "    LR.fit_autograd(X,y)\n",
        "    pred = LR.predict(X)\n",
        "    print(\"\\nPart b:\")\n",
        "    print(\"Accuracy: \",LR.accuracy(pred,y))\n",
        "    return\n",
        "\n",
        "q_b(X,y)"
      ],
      "execution_count": null,
      "outputs": [
        {
          "output_type": "stream",
          "text": [
            "\n",
            "Part b:\n",
            "Accuracy:  92.7657206455203\n"
          ],
          "name": "stdout"
        }
      ]
    },
    {
      "cell_type": "markdown",
      "metadata": {
        "id": "mbMonEf0S1ro"
      },
      "source": [
        "### Part - c"
      ]
    },
    {
      "cell_type": "code",
      "metadata": {
        "colab": {
          "base_uri": "https://localhost:8080/"
        },
        "id": "ulyuhPtZS3Gd",
        "outputId": "ecba3ccb-a969-4d71-c7de-ca00d7b33d4f"
      },
      "source": [
        "def q_c(X,y):\n",
        "    X = X.to_numpy()\n",
        "    y = y.to_numpy()\n",
        "    uni = len(np.unique(y))\n",
        "    print(\"\\nPart c:\")\n",
        "    cnt = 1\n",
        "    accu = []\n",
        "    wrong = np.zeros((uni,uni))\n",
        "    ACC = np.zeros(uni)\n",
        "    kf = StratifiedKFold(n_splits=4,shuffle=True)\n",
        "    for train_index, test_index in kf.split(X,y):\n",
        "        # print(\"TRAIN:\", train_index, \"TEST:\", test_index)\n",
        "        X_train, X_test = X[train_index], X[test_index]\n",
        "        y_train, y_test = y[train_index], y[test_index]\n",
        "        LR = LogisticRegression()\n",
        "        LR.fit(X_train,y_train)\n",
        "        pred = LR.predict(X_test)\n",
        "        accu.append(LR.accuracy(pred,y_test))\n",
        "        print(cnt,\". Accuracy: \",accu[cnt-1])\n",
        "        confusion = confusion_matrix(y_test, pred)\n",
        "        print('\\nConfusion Matrix:\\n')\n",
        "        print(confusion,\"\\n\")\n",
        "        for i in range(10):\n",
        "            for j in range(10):\n",
        "                if i!=j:\n",
        "                    wrong[i][j] += confusion[i][j] + confusion[j][i]\n",
        "                    wrong[j][i] += confusion[i][j] + confusion[j][i]\n",
        "            ACC[i] += confusion[i][i]/np.sum(confusion[:,i])\n",
        "        cnt+=1\n",
        "\n",
        "    print(\"Overall/Average Accuracy: \",sum(accu)/len(accu))\n",
        "    print(\"Digit which get confused most : \", np.argmax(wrong))\n",
        "    print(\"Digit which is easiest to predict: \", np.argmax(ACC))\n",
        "\n",
        "\n",
        "q_c(X,y)"
      ],
      "execution_count": null,
      "outputs": [
        {
          "output_type": "stream",
          "text": [
            "\n",
            "Part c:\n",
            "1 . Accuracy:  95.55555555555556\n",
            "\n",
            "Confusion Matrix:\n",
            "\n",
            "[[45  0  0  0  0  0  0  0  0  0]\n",
            " [ 0 41  0  1  0  0  1  0  1  1]\n",
            " [ 0  0 45  0  0  0  0  0  0  0]\n",
            " [ 0  0  0 43  0  0  0  1  0  1]\n",
            " [ 0  0  0  0 45  0  1  0  0  0]\n",
            " [ 0  0  0  1  0 41  1  1  0  1]\n",
            " [ 0  0  0  0  0  0 45  0  0  0]\n",
            " [ 0  0  0  0  0  0  0 45  0  0]\n",
            " [ 0  2  1  2  0  0  0  2 37  0]\n",
            " [ 0  0  0  1  0  1  0  0  0 43]] \n",
            "\n",
            "2 . Accuracy:  94.87750556792874\n",
            "\n",
            "Confusion Matrix:\n",
            "\n",
            "[[45  0  0  0  0  0  0  0  0  0]\n",
            " [ 0 44  0  0  1  0  0  0  0  0]\n",
            " [ 1  1 39  3  0  0  0  0  0  0]\n",
            " [ 0  0  0 42  0  0  0  0  4  0]\n",
            " [ 0  0  0  0 41  0  0  1  2  1]\n",
            " [ 0  0  0  0  1 45  0  0  0  0]\n",
            " [ 0  0  0  0  0  1 44  0  0  0]\n",
            " [ 0  0  0  0  0  0  0 43  1  1]\n",
            " [ 0  0  0  0  0  1  0  0 42  0]\n",
            " [ 0  1  0  1  0  0  0  0  2 41]] \n",
            "\n",
            "3 . Accuracy:  96.43652561247215\n",
            "\n",
            "Confusion Matrix:\n",
            "\n",
            "[[43  0  0  0  1  0  0  0  0  0]\n",
            " [ 0 45  0  0  0  0  1  0  0  0]\n",
            " [ 0  0 43  0  0  0  0  1  0  0]\n",
            " [ 0  0  0 45  0  0  0  0  1  0]\n",
            " [ 1  1  0  0 42  0  1  0  0  0]\n",
            " [ 0  0  0  0  0 46  0  0  0  0]\n",
            " [ 0  1  0  0  0  0 43  0  1  0]\n",
            " [ 0  0  0  0  1  0  0 44  0  0]\n",
            " [ 0  2  0  0  1  0  1  0 39  0]\n",
            " [ 0  1  0  0  0  0  0  1  0 43]] \n",
            "\n",
            "4 . Accuracy:  94.43207126948775\n",
            "\n",
            "Confusion Matrix:\n",
            "\n",
            "[[43  0  0  0  0  0  1  0  0  0]\n",
            " [ 0 43  0  0  0  0  1  0  1  1]\n",
            " [ 0  0 43  1  0  0  0  0  0  0]\n",
            " [ 0  0  0 45  0  0  0  0  0  1]\n",
            " [ 0  0  0  0 44  0  0  0  1  0]\n",
            " [ 0  0  1  0  1 41  0  0  0  2]\n",
            " [ 0  1  0  0  0  0 45  0  0  0]\n",
            " [ 1  0  0  0  2  0  0 41  0  0]\n",
            " [ 0  1  1  0  0  1  0  1 37  3]\n",
            " [ 0  0  0  0  0  0  0  2  1 42]] \n",
            "\n",
            "Overall/Average Accuracy:  95.32541450136105\n",
            "Digit which get confused most :  18\n",
            "Digit which is easiest to predict:  2\n"
          ],
          "name": "stdout"
        }
      ]
    },
    {
      "cell_type": "markdown",
      "metadata": {
        "id": "9F_U_7RqS7Ap"
      },
      "source": [
        "### Part - d"
      ]
    },
    {
      "cell_type": "code",
      "metadata": {
        "colab": {
          "base_uri": "https://localhost:8080/",
          "height": 279
        },
        "id": "GMywtG-qS8bW",
        "outputId": "1e411d9f-ceeb-4b2a-a014-e044318d94c2"
      },
      "source": [
        "def q_d(X):\n",
        "    \n",
        "    pca = PCA(n_components=2)\n",
        "    X_pca = pca.fit_transform(X)\n",
        "\n",
        "    colors = ['black', 'blue', 'purple', 'yellow', 'pink', 'red', 'lime', 'cyan', 'orange', 'gray']\n",
        "    for i in range(len(colors)):\n",
        "        px = X_pca[:, 0][y == i]\n",
        "        py = X_pca[:, 1][y == i]\n",
        "        plt.scatter(px, py, c=colors[i])\n",
        "    plt.legend(digits.target_names)\n",
        "    plt.xlabel('Component 1')\n",
        "    plt.ylabel('Component 2')\n",
        "\n",
        "    plt.show()\n",
        "    return\n",
        "\n",
        "q_d(X)"
      ],
      "execution_count": null,
      "outputs": [
        {
          "output_type": "display_data",
          "data": {
            "image/png": "[encoded data removed]",
            "text/plain": [
              "<Figure size 432x288 with 1 Axes>"
            ]
          },
          "metadata": {
            "tags": [],
            "needs_background": "light"
          }
        }
      ]
    }
  ]
}