{
  "nbformat": 4,
  "nbformat_minor": 0,
  "metadata": {
    "colab": {
      "name": "ML_A3_Q1.ipynb",
      "provenance": [],
      "collapsed_sections": []
    },
    "kernelspec": {
      "name": "python3",
      "display_name": "Python 3"
    },
    "language_info": {
      "name": "python"
    },
    "accelerator": "GPU"
  },
  "cells": [
    {
      "cell_type": "markdown",
      "metadata": {
        "id": "sZ6waZsZPv6V"
      },
      "source": [
        "[![Open In Colab](https://colab.research.google.com/assets/colab-badge.svg)](https://colab.research.google.com/drive/1aiL3qqk3CgCPhBuMDaRYUSBlUjh31-d9?usp=sharing)"
      ]
    },
    {
      "cell_type": "code",
      "metadata": {
        "id": "Zhs67Bn9PgdT"
      },
      "source": [
        "import numpy as np\n",
        "import pandas as pd\n",
        "import matplotlib.pyplot as plt\n",
        "from tqdm import tqdm\n",
        "from sklearn.datasets import load_breast_cancer\n",
        "from sklearn.model_selection import KFold\n",
        "import autograd.numpy as npy\n",
        "from autograd import grad\n",
        "from autograd import elementwise_grad"
      ],
      "execution_count": null,
      "outputs": []
    },
    {
      "cell_type": "code",
      "metadata": {
        "id": "6j1GvblLQSYU"
      },
      "source": [
        "class LogisticRegression():\n",
        "    def __init__(self, fit_intercept=True):\n",
        "        '''\n",
        "        :param fit_intercept: Whether to calculate the intercept for this model. If set to False, no intercept will be used in calculations (i.e. data is expected to be centered).\n",
        "        '''\n",
        "        self.fit_intercept = fit_intercept\n",
        "        self.coef_ = None #Replace with numpy array or pandas series of coefficients learned using using the fit methods\n",
        "        self.thetas = [] ##for plotting\n",
        "        self.costs = []\n",
        "        self.X = None\n",
        "        self.y = None\n",
        "\n",
        "        pass\n",
        "\n",
        "    def fit(self, X, y, n_iter=100000, lr=0.01, lr_type='constant'):\n",
        "        \n",
        "        if isinstance(X,pd.DataFrame):\n",
        "            X = X.to_numpy()\n",
        "        \n",
        "        if isinstance(y,pd.Series):\n",
        "            y = y.to_numpy()\n",
        "\n",
        "        m = X.shape[1]\n",
        "        n = len(y)  \n",
        "        y = y.reshape(n,1)\n",
        "        if self.fit_intercept == True:\n",
        "            theta = np.random.randn(m+1,1)\n",
        "            X0 = np.ones((n,1))\n",
        "            X = np.append(X0,X,axis = 1)\n",
        "        elif self.fit_intercept == False:\n",
        "            theta = np.random.randn(m,1)\n",
        "\n",
        "        self.X = X\n",
        "        self.y = y\n",
        "\n",
        "        ## For \n",
        "        # n = no. of samples\n",
        "        # m = no. of features\n",
        "        # X : n x m\n",
        "        # theta : m x 1\n",
        "        # y : n x 1\n",
        "\n",
        "        for it in range(1,n_iter+1):\n",
        "            if lr_type == 'constant':\n",
        "                c = 1\n",
        "            elif lr_type == 'inverse':\n",
        "                c = 1/(it+1)\n",
        "\n",
        "            Z = np.dot(X,theta)  \n",
        "            y_hat = self.sigmoid(Z)\n",
        "            # cost = self.cost(y,y_hat)\n",
        "            dtheta = (1/n)*np.dot( X.T,y_hat-y) \n",
        "            theta = theta - c*lr*dtheta\n",
        "\n",
        "            # Keeping track of our weights\n",
        "            self.thetas.append(theta)\n",
        "            \n",
        "            # Keeping track of our cost function value\n",
        "            # self.costs.append(cost)\n",
        "\n",
        "        self.coef_ = theta\n",
        "        return\n",
        "\n",
        "    def sigmoid(self,Z):\n",
        "        return 1/(1+npy.exp(-Z))\n",
        "\n",
        "    def cost(self,theta): \n",
        "        X = self.X\n",
        "        y = self.y\n",
        "        Z = npy.dot(X,theta)  \n",
        "        y_hat = self.sigmoid(Z)\n",
        "\n",
        "        y1 = y*npy.log(y_hat)\n",
        "        y2 = (1-y)*npy.log(1-y_hat)\n",
        "        # cost = -(1/len(y))*npy.sum( y*npy.log(y_hat) + (1-y)*npy.log(1-y_hat))\n",
        "        cost = -(1/len(y))*npy.sum(y1 + y2)\n",
        "        return cost\n",
        "\n",
        "    def fit_autograd(self, X, y, n_iter=10000, lr=0.01, lr_type='constant'):\n",
        "\n",
        "        if isinstance(X,pd.DataFrame):\n",
        "            X = X.to_numpy()\n",
        "        \n",
        "        if isinstance(y,pd.Series):\n",
        "            y = y.to_numpy()\n",
        "\n",
        "        m = X.shape[1]\n",
        "        n = len(y)  \n",
        "        y = y.reshape(n,1)\n",
        "        if self.fit_intercept == True:\n",
        "            theta = np.random.randn(m+1,1)\n",
        "            X0 = np.ones((n,1))\n",
        "            X = np.append(X0,X,axis = 1)\n",
        "        elif self.fit_intercept == False:\n",
        "            theta = np.random.randn(m,1)\n",
        "\n",
        "        self.X = X\n",
        "        self.y = y\n",
        "\n",
        "        ag = elementwise_grad(self.cost)\n",
        "        for it in range(1,n_iter+1):\n",
        "            if lr_type == 'constant':\n",
        "                c = 1\n",
        "            elif lr_type == 'inverse':\n",
        "                c = 1/(it+1)\n",
        "\n",
        "            cost = ag(theta)\n",
        "            \n",
        "            theta -= c*lr*cost\n",
        "\n",
        "            # Keeping track of our weights\n",
        "            self.thetas.append(theta)\n",
        "            \n",
        "            # Keeping track of our cost function value\n",
        "            self.costs.append(cost)\n",
        "            \n",
        "        self.coef_ = theta\n",
        "        return\n",
        "\n",
        "    \n",
        "    def predict(self, X):\n",
        "            \n",
        "        if isinstance(X,pd.DataFrame):\n",
        "            X = X.to_numpy()\n",
        "\n",
        "        if self.fit_intercept == True:  \n",
        "            m = X.shape[0]\n",
        "            X0 = np.ones((m,1))\n",
        "            X = np.append(X0,X,axis = 1)\n",
        "        \n",
        "        y_hat = self.sigmoid(X.dot(self.coef_))\n",
        "        y_hat = y_hat.reshape(len(y_hat),)\n",
        "        # print(y_hat)\n",
        "        for i in range(len(y_hat)):\n",
        "                if(y_hat[i]<=0.5):\n",
        "                    y_hat[i]=0\n",
        "                else:\n",
        "                    y_hat[i]=1\n",
        "        return pd.Series(y_hat)\n",
        "\n",
        "    def accuracy(self,y_hat,y):\n",
        "\n",
        "        assert(y_hat.size == y.size)\n",
        "        true_pred = 0\n",
        "        for i in range(y_hat.size):\n",
        "            if y_hat[i]==y[i]:\n",
        "                true_pred+=1\n",
        "\n",
        "        accu = true_pred/y.size\n",
        "        return accu*100\n",
        "\n",
        "    def plot(self,X,y):\n",
        "        \"\"\"\n",
        "        Plots the decison boundary of the learned model.\n",
        "        Note : The code will break if the number of columns in X is more than 2.\n",
        "        Ref. : https://scikit-learn.org/stable/auto_examples/linear_model/plot_iris_logistic.html\n",
        "        \"\"\"\n",
        "        x_min, x_max = X[:, 0].min() - .5, X[:, 0].max() + .5\n",
        "        y_min, y_max = X[:, 1].min() - .5, X[:, 1].max() + .5\n",
        "        h = .02  # step size in the mesh\n",
        "        xx, yy = np.meshgrid(np.arange(x_min, x_max, h), np.arange(y_min, y_max, h))\n",
        "        Z = self.predict(np.c_[xx.ravel(), yy.ravel()]).to_numpy()\n",
        "        # Put the result into a color plot\n",
        "        Z = Z.reshape(xx.shape)\n",
        "        plt.figure(1, figsize=(4, 3))\n",
        "        plt.pcolormesh(xx, yy, Z, cmap=plt.cm.Paired)\n",
        "\n",
        "        # Plot also the training points\n",
        "        plt.scatter(X[:, 0], X[:, 1], c=y, edgecolors='k', cmap=plt.cm.Paired)\n",
        "        plt.xlim(xx.min(), xx.max())\n",
        "        plt.ylim(yy.min(), yy.max())\n",
        "        plt.xticks(())\n",
        "        plt.yticks(())\n",
        "\n",
        "        plt.savefig(\"./q1d.png\")\n",
        "        plt.show()\n",
        "        return\n"
      ],
      "execution_count": null,
      "outputs": []
    },
    {
      "cell_type": "markdown",
      "metadata": {
        "id": "_yA5yge-RmR6"
      },
      "source": [
        "### Dataset Preprocessing"
      ]
    },
    {
      "cell_type": "code",
      "metadata": {
        "id": "8CdpBt44Rrog"
      },
      "source": [
        "cancer = load_breast_cancer()\n",
        "\n",
        "X = pd.DataFrame(cancer.data, columns=cancer.feature_names)\n",
        "y = pd.Series(cancer['target'])\n",
        "\n",
        "## Normalization of X\n",
        "for column in X.columns:\n",
        "    X.loc[:,column] = (X.loc[:,column] - X.loc[:,column].min())/(X.loc[:,column].max() - X.loc[:,column].min())"
      ],
      "execution_count": null,
      "outputs": []
    },
    {
      "cell_type": "markdown",
      "metadata": {
        "id": "l2fAxY3HRJNn"
      },
      "source": [
        "### Part - a"
      ]
    },
    {
      "cell_type": "code",
      "metadata": {
        "colab": {
          "base_uri": "https://localhost:8080/"
        },
        "id": "0lDPQtemRhSR",
        "outputId": "bd9c4b06-ce8e-4bfa-fba6-d570d7862dfe"
      },
      "source": [
        "def q_a(X,y):\n",
        "    X = X.to_numpy()\n",
        "    y = y.to_numpy()\n",
        "    clf = LogisticRegression()\n",
        "    clf.fit(X,y)\n",
        "    pred = clf.predict(X)\n",
        "    print(\"\\nPart a:\")\n",
        "    print(\"Accuracy: \",clf.accuracy(pred,y))\n",
        "    return\n",
        "\n",
        "q_a(X,y)"
      ],
      "execution_count": null,
      "outputs": [
        {
          "output_type": "stream",
          "text": [
            "\n",
            "Part a:\n",
            "Accuracy:  97.89103690685414\n"
          ],
          "name": "stdout"
        }
      ]
    },
    {
      "cell_type": "markdown",
      "metadata": {
        "id": "hHWSd6dGSlkQ"
      },
      "source": [
        "### Part - b"
      ]
    },
    {
      "cell_type": "code",
      "metadata": {
        "colab": {
          "base_uri": "https://localhost:8080/"
        },
        "id": "-gJCQ83eSnM2",
        "outputId": "6248b27d-ac66-450c-dfc5-682f1af9b62b"
      },
      "source": [
        "def q_b(X,y):\n",
        "    X = X.to_numpy()\n",
        "    y = y.to_numpy()\n",
        "    clf = LogisticRegression()\n",
        "    clf.fit_autograd(X,y)\n",
        "    pred = clf.predict(X)\n",
        "    print(\"\\nPart b:\")\n",
        "    print(\"Accuracy: \",clf.accuracy(pred,y))\n",
        "    return\n",
        "\n",
        "q_b(X,y)"
      ],
      "execution_count": null,
      "outputs": [
        {
          "output_type": "stream",
          "text": [
            "\n",
            "Part b:\n",
            "Accuracy:  92.09138840070298\n"
          ],
          "name": "stdout"
        }
      ]
    },
    {
      "cell_type": "markdown",
      "metadata": {
        "id": "mbMonEf0S1ro"
      },
      "source": [
        "### Part - c"
      ]
    },
    {
      "cell_type": "code",
      "metadata": {
        "colab": {
          "base_uri": "https://localhost:8080/"
        },
        "id": "ulyuhPtZS3Gd",
        "outputId": "728c18e7-e675-4eb9-bedb-fd9a15bd4da3"
      },
      "source": [
        "def q_c(X,y):\n",
        "    X = X.to_numpy()\n",
        "    y = y.to_numpy()\n",
        "    print(\"\\nPart c:\")\n",
        "    cnt = 1\n",
        "    accu = []\n",
        "    kf = KFold(n_splits=3)\n",
        "    for train_index, test_index in kf.split(X):\n",
        "        # print(\"TRAIN:\", train_index, \"TEST:\", test_index)\n",
        "        X_train, X_test = X[train_index], X[test_index]\n",
        "        y_train, y_test = y[train_index], y[test_index]\n",
        "        clf = LogisticRegression()\n",
        "        clf.fit(X_train,y_train)\n",
        "        pred = clf.predict(X_test)\n",
        "        accu.append(clf.accuracy(pred,y_test))\n",
        "        print(cnt,\". Accuracy: \",accu[cnt-1])\n",
        "        cnt+=1\n",
        "    print(\"Overall/Average Accuracy: \",sum(accu)/len(accu))\n",
        "    return\n",
        "\n",
        "q_c(X,y)"
      ],
      "execution_count": null,
      "outputs": [
        {
          "output_type": "stream",
          "text": [
            "\n",
            "Part c:\n",
            "1 . Accuracy:  92.63157894736842\n",
            "2 . Accuracy:  96.84210526315789\n",
            "3 . Accuracy:  97.35449735449735\n",
            "Overall/Average Accuracy:  95.6093938550079\n"
          ],
          "name": "stdout"
        }
      ]
    },
    {
      "cell_type": "markdown",
      "metadata": {
        "id": "9F_U_7RqS7Ap"
      },
      "source": [
        "### Part - d"
      ]
    },
    {
      "cell_type": "code",
      "metadata": {
        "colab": {
          "base_uri": "https://localhost:8080/",
          "height": 247
        },
        "id": "GMywtG-qS8bW",
        "outputId": "17f426e3-5110-46a5-d667-a83b7ff91ff5"
      },
      "source": [
        "def q_d(X,y):\n",
        "    X = X.iloc[:,[1,2]]\n",
        "    # print(X)\n",
        "    X = X.to_numpy()\n",
        "    y = y.to_numpy()\n",
        "    clf = LogisticRegression()\n",
        "    clf.fit(X,y)\n",
        "    pred = clf.predict(X)\n",
        "    print(\"\\nPart d:\")\n",
        "    print(\"Accuracy: \",clf.accuracy(pred,y))\n",
        "    clf.plot(X,y)\n",
        "    return\n",
        "\n",
        "q_d(X,y)"
      ],
      "execution_count": null,
      "outputs": [
        {
          "output_type": "stream",
          "text": [
            "\n",
            "Part d:\n",
            "Accuracy:  90.15817223198594\n"
          ],
          "name": "stdout"
        },
        {
          "output_type": "display_data",
          "data": {
            "image/png": "[encoded data removed]",
            "text/plain": [
              "<Figure size 288x216 with 1 Axes>"
            ]
          },
          "metadata": {
            "tags": []
          }
        }
      ]
    },
    {
      "cell_type": "code",
      "metadata": {
        "id": "MewsrPeZt-pY"
      },
      "source": [
        ""
      ],
      "execution_count": null,
      "outputs": []
    }
  ]
}