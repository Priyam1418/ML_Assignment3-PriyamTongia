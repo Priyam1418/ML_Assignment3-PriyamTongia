{
  "nbformat": 4,
  "nbformat_minor": 0,
  "metadata": {
    "colab": {
      "name": "ML_A3_Q7.ipynb",
      "provenance": [],
      "collapsed_sections": [
        "hTxU1ZqVCW-y",
        "xzACnIk_C4an",
        "Yp4exzzRDVRk"
      ],
      "toc_visible": true
    },
    "kernelspec": {
      "name": "python3",
      "display_name": "Python 3"
    },
    "language_info": {
      "name": "python"
    },
    "accelerator": "GPU"
  },
  "cells": [
    {
      "cell_type": "markdown",
      "metadata": {
        "id": "dwb28WtVUwRy"
      },
      "source": [
        "[![Open In Colab](https://colab.research.google.com/assets/colab-badge.svg)](https://colab.research.google.com/drive/15jr665ceMD44gB1fNUMWHs2UB3tKWQLg?usp=sharing)"
      ]
    },
    {
      "cell_type": "code",
      "metadata": {
        "colab": {
          "base_uri": "https://localhost:8080/"
        },
        "id": "0MBHw3R3UyzF",
        "outputId": "2d9596c0-0ba8-4301-c0da-5a8af87610d4"
      },
      "source": [
        "!git clone https://github.com/Priyam1418/ML_Assignment3-PriyamTongia.git"
      ],
      "execution_count": null,
      "outputs": [
        {
          "output_type": "stream",
          "text": [
            "fatal: destination path 'ML_Assignment3-PriyamTongia' already exists and is not an empty directory.\n"
          ],
          "name": "stdout"
        }
      ]
    },
    {
      "cell_type": "code",
      "metadata": {
        "id": "NM3CbjSoWduk"
      },
      "source": [
        "# baseline model with data augmentation for the dogs vs cats dataset\n",
        "import sys\n",
        "from matplotlib import pyplot\n",
        "from keras.utils import to_categorical\n",
        "from keras.models import Sequential\n",
        "from keras.layers import Conv2D\n",
        "from keras.layers import MaxPooling2D\n",
        "from keras.layers import Dense\n",
        "from keras.layers import Flatten\n",
        "from keras.optimizers import SGD\n",
        "from keras.preprocessing.image import ImageDataGenerator"
      ],
      "execution_count": null,
      "outputs": []
    },
    {
      "cell_type": "markdown",
      "metadata": {
        "id": "hTxU1ZqVCW-y"
      },
      "source": [
        "## Transfer Learning"
      ]
    },
    {
      "cell_type": "code",
      "metadata": {
        "id": "qKeRcPHS9y4m"
      },
      "source": [
        "# define cnn model\n",
        "def define_model_tl():\n",
        "\tmodel = Sequential()\n",
        "\tmodel.add(Conv2D(32, (3, 3), activation='relu', kernel_initializer='he_uniform', padding='same', input_shape=(200, 200, 3)))\n",
        "\tmodel.add(MaxPooling2D((2, 2)))\n",
        "\tmodel.add(Conv2D(64, (3, 3), activation='relu', kernel_initializer='he_uniform', padding='same'))\n",
        "\tmodel.add(MaxPooling2D((2, 2)))\n",
        "\tmodel.add(Conv2D(128, (3, 3), activation='relu', kernel_initializer='he_uniform', padding='same'))\n",
        "\tmodel.add(MaxPooling2D((2, 2)))\n",
        "\tmodel.add(Flatten())\n",
        "\tmodel.add(Dense(128, activation='relu', kernel_initializer='he_uniform'))\n",
        "\tmodel.add(Dense(1, activation='sigmoid'))\n",
        "\t# compile model\n",
        "\topt = SGD(lr=0.001, momentum=0.9)\n",
        "\tmodel.compile(optimizer=opt, loss='binary_crossentropy', metrics=['accuracy'])\n",
        "\treturn model\n",
        "\n",
        "# plot diagnostic learning curves\n",
        "def summarize_diagnostics_tl(history):\n",
        "\t# plot loss\n",
        "\tpyplot.subplot(211)\n",
        "\tpyplot.title('Cross Entropy Loss')\n",
        "\tpyplot.plot(history.history['loss'], color='blue', label='train')\n",
        "\tpyplot.plot(history.history['val_loss'], color='orange', label='test')\n",
        "\t# plot accuracy\n",
        "\tpyplot.subplot(212)\n",
        "\tpyplot.title('Classification Accuracy')\n",
        "\tpyplot.tight_layout(pad=3.0)\n",
        "\tpyplot.plot(history.history['accuracy'], color='blue', label='train')\n",
        "\tpyplot.plot(history.history['val_accuracy'], color='orange', label='test')\n",
        "\t# save plot to file\n",
        "\tpyplot.savefig('tl_plot.png')\n",
        "\tpyplot.close()\n",
        "\n",
        "# run the test harness for evaluating a model\n",
        "def run_test_harness_tl():\n",
        "    model = define_model_tl()\n",
        "    \n",
        "    train_datagen = ImageDataGenerator(rescale=1.0/255.0, width_shift_range=0.1, height_shift_range=0.1, horizontal_flip=True)\n",
        "    \n",
        "    test_datagen = ImageDataGenerator(rescale=1.0/255.0)\n",
        "    \n",
        "    train_it = train_datagen.flow_from_directory('/content/ML_Assignment3-PriyamTongia/dataset/train/', class_mode='binary', batch_size=64, target_size=(200, 200))\n",
        "    \n",
        "    test_it = test_datagen.flow_from_directory('/content/ML_Assignment3-PriyamTongia/dataset/test/', class_mode='binary', batch_size=64, target_size=(200, 200))\n",
        "    \n",
        "    history = model.fit(train_it, steps_per_epoch=len(train_it), validation_data=test_it, validation_steps=len(test_it), epochs=50, verbose=2)\n",
        "    \n",
        "    _, acc = model.evaluate(test_it, steps=len(test_it), verbose=0)\n",
        "    \n",
        "    print('> %.3f' % (acc * 100.0))\n",
        "    \n",
        "    summarize_diagnostics_tl(history)\n",
        "\n",
        "    model.save(\"./tl.h5\")"
      ],
      "execution_count": null,
      "outputs": []
    },
    {
      "cell_type": "code",
      "metadata": {
        "id": "8veiUuxj_jut"
      },
      "source": [
        "# entry point, run the test harness\n",
        "run_test_harness_tl()"
      ],
      "execution_count": null,
      "outputs": []
    },
    {
      "cell_type": "markdown",
      "metadata": {
        "id": "xzACnIk_C4an"
      },
      "source": [
        "## VGG1"
      ]
    },
    {
      "cell_type": "code",
      "metadata": {
        "id": "xqdPUHyqC7sa"
      },
      "source": [
        "# define cnn model\n",
        "def define_model_vgg1():\n",
        "\tmodel = Sequential()\n",
        "\tmodel.add(Conv2D(32, (3, 3), activation='relu', kernel_initializer='he_uniform', padding='same', input_shape=(200, 200, 3)))\n",
        "\tmodel.add(MaxPooling2D((2, 2)))\n",
        "\tmodel.add(Flatten())\n",
        "\tmodel.add(Dense(128, activation='relu', kernel_initializer='he_uniform'))\n",
        "\tmodel.add(Dense(1, activation='sigmoid'))\n",
        "\t# compile model\n",
        "\topt = SGD(lr=0.001, momentum=0.9)\n",
        "\tmodel.compile(optimizer=opt, loss='binary_crossentropy', metrics=['accuracy'])\n",
        "\treturn model\n",
        "\n",
        "# plot diagnostic learning curves\n",
        "def summarize_diagnostics_vgg1(history):\n",
        "\t# plot loss\n",
        "\tpyplot.subplot(211)\n",
        "\tpyplot.title('Cross Entropy Loss')\n",
        "\tpyplot.plot(history.history['loss'], color='blue', label='train')\n",
        "\tpyplot.plot(history.history['val_loss'], color='orange', label='test')\n",
        "\t# plot accuracy\n",
        "\tpyplot.subplot(212)\n",
        "\tpyplot.title('Classification Accuracy')\n",
        "\tpyplot.tight_layout(pad=3.0)\n",
        "\tpyplot.plot(history.history['accuracy'], color='blue', label='train')\n",
        "\tpyplot.plot(history.history['val_accuracy'], color='orange', label='test')\n",
        "\t# save plot to file\n",
        "\tpyplot.savefig('vgg1_plot.png')\n",
        "\tpyplot.close()\n",
        " \n",
        "# run the test harness for evaluating a model\n",
        "def run_test_harness_vgg1():\n",
        "    model = define_model_vgg1()\n",
        "\n",
        "    datagen = ImageDataGenerator(rescale=1.0/255.0)\n",
        "\n",
        "    train_it = datagen.flow_from_directory('/content/ML_Assignment3-PriyamTongia/dataset/train/', class_mode='binary', batch_size=64, target_size=(200, 200))\n",
        "\n",
        "    test_it = datagen.flow_from_directory('/content/ML_Assignment3-PriyamTongia/dataset/test/', class_mode='binary', batch_size=64, target_size=(200, 200))\n",
        "\n",
        "    history = model.fit(train_it, steps_per_epoch=len(train_it), validation_data=test_it, validation_steps=len(test_it), epochs=20, verbose=2)\n",
        "\n",
        "    _, acc = model.evaluate(test_it, steps=len(test_it), verbose=0)\n",
        "\n",
        "    print('> %.3f' % (acc * 100.0))\n",
        "\n",
        "    summarize_diagnostics_vgg1(history)\n",
        "\n",
        "    model.save(\"./vgg1.h5\")\n"
      ],
      "execution_count": null,
      "outputs": []
    },
    {
      "cell_type": "code",
      "metadata": {
        "id": "BL3kBUyKDNel"
      },
      "source": [
        "# entry point, run the test harness\n",
        "run_test_harness_vgg1()"
      ],
      "execution_count": null,
      "outputs": []
    },
    {
      "cell_type": "markdown",
      "metadata": {
        "id": "Yp4exzzRDVRk"
      },
      "source": [
        "## VGG1 with Data Augmentation"
      ]
    },
    {
      "cell_type": "code",
      "metadata": {
        "id": "48WXSS7_D5Vb"
      },
      "source": [
        "# define cnn model\n",
        "def define_model_aug():\n",
        "\tmodel = Sequential()\n",
        "\tmodel.add(Conv2D(32, (3, 3), activation='relu', kernel_initializer='he_uniform', padding='same', input_shape=(200, 200, 3)))\n",
        "\tmodel.add(MaxPooling2D((2, 2)))\n",
        "\tmodel.add(Conv2D(64, (3, 3), activation='relu', kernel_initializer='he_uniform', padding='same'))\n",
        "\tmodel.add(MaxPooling2D((2, 2)))\n",
        "\tmodel.add(Conv2D(128, (3, 3), activation='relu', kernel_initializer='he_uniform', padding='same'))\n",
        "\tmodel.add(MaxPooling2D((2, 2)))\n",
        "\tmodel.add(Flatten())\n",
        "\tmodel.add(Dense(128, activation='relu', kernel_initializer='he_uniform'))\n",
        "\tmodel.add(Dense(1, activation='sigmoid'))\n",
        "\t# compile model\n",
        "\topt = SGD(lr=0.001, momentum=0.9)\n",
        "\tmodel.compile(optimizer=opt, loss='binary_crossentropy', metrics=['accuracy'])\n",
        "\treturn model\n",
        " \n",
        "# plot diagnostic learning curves\n",
        "def summarize_diagnostics_aug(history):\n",
        "\t# plot loss\n",
        "\tpyplot.subplot(211)\n",
        "\tpyplot.title('Cross Entropy Loss')\n",
        "\tpyplot.plot(history.history['loss'], color='blue', label='train')\n",
        "\tpyplot.plot(history.history['val_loss'], color='orange', label='test')\n",
        "\t# plot accuracy\n",
        "\tpyplot.subplot(212)\n",
        "\tpyplot.title('Classification Accuracy')\n",
        "\tpyplot.tight_layout(pad=3.0)\n",
        "\tpyplot.plot(history.history['accuracy'], color='blue', label='train')\n",
        "\tpyplot.plot(history.history['val_accuracy'], color='orange', label='test')\n",
        "\t# save plot to file\n",
        "\tpyplot.savefig('aug_plot.png')\n",
        "\tpyplot.close()\n",
        "\n",
        "# run the test harness for evaluating a model\n",
        "def run_test_harness_aug():\n",
        "    model = define_model_aug()\n",
        "    \n",
        "    train_datagen = ImageDataGenerator(rescale=1.0/255.0, width_shift_range=0.1, height_shift_range=0.1, horizontal_flip=True)\n",
        "    \n",
        "    test_datagen = ImageDataGenerator(rescale=1.0/255.0)\n",
        "    \n",
        "    train_it = train_datagen.flow_from_directory('/content/ML_Assignment3-PriyamTongia/dataset/train/', class_mode='binary', batch_size=64, target_size=(200, 200))\n",
        "    \n",
        "    test_it = test_datagen.flow_from_directory('/content/ML_Assignment3-PriyamTongia/dataset/test/', class_mode='binary', batch_size=64, target_size=(200, 200))\n",
        "    \n",
        "    history = model.fit(train_it, steps_per_epoch=len(train_it), validation_data=test_it, validation_steps=len(test_it), epochs=50, verbose=2)\n",
        "    \n",
        "    _, acc = model.evaluate(test_it, steps=len(test_it), verbose=0)\n",
        "    \n",
        "    print('> %.3f' % (acc * 100.0))\n",
        "    \n",
        "    summarize_diagnostics_aug(history)\n",
        "\n",
        "    model.save(\"./aug.h5\")"
      ],
      "execution_count": null,
      "outputs": []
    },
    {
      "cell_type": "code",
      "metadata": {
        "colab": {
          "base_uri": "https://localhost:8080/"
        },
        "id": "y1OWgTaVEMKr",
        "outputId": "ebed995e-1dd6-4c25-9bb5-d13d7dcb93e6"
      },
      "source": [
        "# entry point, run the test harness\n",
        "run_test_harness_aug()"
      ],
      "execution_count": null,
      "outputs": [
        {
          "output_type": "stream",
          "text": [
            "Found 60 images belonging to 2 classes.\n",
            "Found 20 images belonging to 2 classes.\n",
            "Epoch 1/50\n",
            "1/1 - 3s - loss: 0.6674 - accuracy: 0.6167 - val_loss: 0.9183 - val_accuracy: 0.5000\n",
            "Epoch 2/50\n",
            "1/1 - 2s - loss: 1.0605 - accuracy: 0.5000 - val_loss: 2.9177 - val_accuracy: 0.5000\n",
            "Epoch 3/50\n",
            "1/1 - 2s - loss: 2.5246 - accuracy: 0.5000 - val_loss: 0.9549 - val_accuracy: 0.5000\n",
            "Epoch 4/50\n",
            "1/1 - 2s - loss: 0.8891 - accuracy: 0.5000 - val_loss: 0.9534 - val_accuracy: 0.5000\n",
            "Epoch 5/50\n",
            "1/1 - 2s - loss: 1.0124 - accuracy: 0.5000 - val_loss: 0.9173 - val_accuracy: 0.5000\n",
            "Epoch 6/50\n",
            "1/1 - 2s - loss: 0.9607 - accuracy: 0.5000 - val_loss: 0.7037 - val_accuracy: 0.5000\n",
            "Epoch 7/50\n",
            "1/1 - 2s - loss: 0.7239 - accuracy: 0.5000 - val_loss: 0.6909 - val_accuracy: 0.5000\n",
            "Epoch 8/50\n",
            "1/1 - 2s - loss: 0.6804 - accuracy: 0.6000 - val_loss: 0.7161 - val_accuracy: 0.5500\n",
            "Epoch 9/50\n",
            "1/1 - 2s - loss: 0.6820 - accuracy: 0.5000 - val_loss: 0.7272 - val_accuracy: 0.5000\n",
            "Epoch 10/50\n",
            "1/1 - 2s - loss: 0.6880 - accuracy: 0.5000 - val_loss: 0.7374 - val_accuracy: 0.5000\n",
            "Epoch 11/50\n",
            "1/1 - 2s - loss: 0.6939 - accuracy: 0.4833 - val_loss: 0.7292 - val_accuracy: 0.5000\n",
            "Epoch 12/50\n",
            "1/1 - 2s - loss: 0.6825 - accuracy: 0.5000 - val_loss: 0.7107 - val_accuracy: 0.5000\n",
            "Epoch 13/50\n",
            "1/1 - 2s - loss: 0.6888 - accuracy: 0.5167 - val_loss: 0.6906 - val_accuracy: 0.5500\n",
            "Epoch 14/50\n",
            "1/1 - 2s - loss: 0.6807 - accuracy: 0.5500 - val_loss: 0.6871 - val_accuracy: 0.6500\n",
            "Epoch 15/50\n",
            "1/1 - 2s - loss: 0.6792 - accuracy: 0.6500 - val_loss: 0.6857 - val_accuracy: 0.7500\n",
            "Epoch 16/50\n",
            "1/1 - 2s - loss: 0.6783 - accuracy: 0.6833 - val_loss: 0.6838 - val_accuracy: 0.8000\n",
            "Epoch 17/50\n",
            "1/1 - 2s - loss: 0.6767 - accuracy: 0.7667 - val_loss: 0.6826 - val_accuracy: 0.8000\n",
            "Epoch 18/50\n",
            "1/1 - 2s - loss: 0.6796 - accuracy: 0.6667 - val_loss: 0.6819 - val_accuracy: 0.7500\n",
            "Epoch 19/50\n",
            "1/1 - 2s - loss: 0.6738 - accuracy: 0.6167 - val_loss: 0.6824 - val_accuracy: 0.6500\n",
            "Epoch 20/50\n",
            "1/1 - 2s - loss: 0.6678 - accuracy: 0.6667 - val_loss: 0.6856 - val_accuracy: 0.6000\n",
            "Epoch 21/50\n",
            "1/1 - 2s - loss: 0.6624 - accuracy: 0.6167 - val_loss: 0.6874 - val_accuracy: 0.6000\n",
            "Epoch 22/50\n",
            "1/1 - 2s - loss: 0.6674 - accuracy: 0.5667 - val_loss: 0.6846 - val_accuracy: 0.6500\n",
            "Epoch 23/50\n",
            "1/1 - 2s - loss: 0.6628 - accuracy: 0.5500 - val_loss: 0.6785 - val_accuracy: 0.6000\n",
            "Epoch 24/50\n",
            "1/1 - 2s - loss: 0.6647 - accuracy: 0.5667 - val_loss: 0.6720 - val_accuracy: 0.7500\n",
            "Epoch 25/50\n",
            "1/1 - 2s - loss: 0.6461 - accuracy: 0.7000 - val_loss: 0.6678 - val_accuracy: 0.7000\n",
            "Epoch 26/50\n",
            "1/1 - 2s - loss: 0.6561 - accuracy: 0.7333 - val_loss: 0.6754 - val_accuracy: 0.7000\n",
            "Epoch 27/50\n",
            "1/1 - 2s - loss: 0.6492 - accuracy: 0.7167 - val_loss: 0.6827 - val_accuracy: 0.6500\n",
            "Epoch 28/50\n",
            "1/1 - 2s - loss: 0.6432 - accuracy: 0.6833 - val_loss: 0.6856 - val_accuracy: 0.6500\n",
            "Epoch 29/50\n",
            "1/1 - 2s - loss: 0.6355 - accuracy: 0.6667 - val_loss: 0.6861 - val_accuracy: 0.6500\n",
            "Epoch 30/50\n",
            "1/1 - 2s - loss: 0.6354 - accuracy: 0.6667 - val_loss: 0.6795 - val_accuracy: 0.7500\n",
            "Epoch 31/50\n",
            "1/1 - 2s - loss: 0.6280 - accuracy: 0.6500 - val_loss: 0.6692 - val_accuracy: 0.7500\n",
            "Epoch 32/50\n",
            "1/1 - 2s - loss: 0.6227 - accuracy: 0.7000 - val_loss: 0.6597 - val_accuracy: 0.6500\n",
            "Epoch 33/50\n",
            "1/1 - 2s - loss: 0.6196 - accuracy: 0.7333 - val_loss: 0.6517 - val_accuracy: 0.6500\n",
            "Epoch 34/50\n",
            "1/1 - 2s - loss: 0.6036 - accuracy: 0.7333 - val_loss: 0.6457 - val_accuracy: 0.6000\n",
            "Epoch 35/50\n",
            "1/1 - 2s - loss: 0.6187 - accuracy: 0.7333 - val_loss: 0.6452 - val_accuracy: 0.6500\n",
            "Epoch 36/50\n",
            "1/1 - 2s - loss: 0.5988 - accuracy: 0.7500 - val_loss: 0.6485 - val_accuracy: 0.7000\n",
            "Epoch 37/50\n",
            "1/1 - 2s - loss: 0.5915 - accuracy: 0.7500 - val_loss: 0.6508 - val_accuracy: 0.7000\n",
            "Epoch 38/50\n",
            "1/1 - 2s - loss: 0.5854 - accuracy: 0.7500 - val_loss: 0.6415 - val_accuracy: 0.7000\n",
            "Epoch 39/50\n",
            "1/1 - 2s - loss: 0.5893 - accuracy: 0.7167 - val_loss: 0.6248 - val_accuracy: 0.6500\n",
            "Epoch 40/50\n",
            "1/1 - 2s - loss: 0.5791 - accuracy: 0.7500 - val_loss: 0.6141 - val_accuracy: 0.7000\n",
            "Epoch 41/50\n",
            "1/1 - 2s - loss: 0.5778 - accuracy: 0.8333 - val_loss: 0.6076 - val_accuracy: 0.7000\n",
            "Epoch 42/50\n",
            "1/1 - 2s - loss: 0.5501 - accuracy: 0.8167 - val_loss: 0.6051 - val_accuracy: 0.7000\n",
            "Epoch 43/50\n",
            "1/1 - 2s - loss: 0.5447 - accuracy: 0.8167 - val_loss: 0.6055 - val_accuracy: 0.6500\n",
            "Epoch 44/50\n",
            "1/1 - 2s - loss: 0.5553 - accuracy: 0.8167 - val_loss: 0.6052 - val_accuracy: 0.7000\n",
            "Epoch 45/50\n",
            "1/1 - 2s - loss: 0.5501 - accuracy: 0.7667 - val_loss: 0.6004 - val_accuracy: 0.7000\n",
            "Epoch 46/50\n",
            "1/1 - 2s - loss: 0.5428 - accuracy: 0.7833 - val_loss: 0.5859 - val_accuracy: 0.7000\n",
            "Epoch 47/50\n",
            "1/1 - 2s - loss: 0.5373 - accuracy: 0.8000 - val_loss: 0.5739 - val_accuracy: 0.7000\n",
            "Epoch 48/50\n",
            "1/1 - 2s - loss: 0.5457 - accuracy: 0.8167 - val_loss: 0.5681 - val_accuracy: 0.7500\n",
            "Epoch 49/50\n",
            "1/1 - 2s - loss: 0.5330 - accuracy: 0.7167 - val_loss: 0.5689 - val_accuracy: 0.7500\n",
            "Epoch 50/50\n",
            "1/1 - 2s - loss: 0.5131 - accuracy: 0.8167 - val_loss: 0.5647 - val_accuracy: 0.7500\n",
            "> 75.000\n"
          ],
          "name": "stdout"
        }
      ]
    },
    {
      "cell_type": "code",
      "metadata": {
        "id": "OSP4ncB_NynX"
      },
      "source": [
        ""
      ],
      "execution_count": null,
      "outputs": []
    }
  ]
}